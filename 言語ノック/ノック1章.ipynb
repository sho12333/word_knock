{
  "nbformat": 4,
  "nbformat_minor": 0,
  "metadata": {
    "colab": {
      "name": "ノック1章.ipynb",
      "provenance": [],
      "collapsed_sections": [
        "pWpcR_1mBFU6",
        "4htxFBcUDLco",
        "O-Oogb79Ha1q",
        "xErtT-15O41o",
        "X2VazEcybAJc",
        "TSy6PWT4nMf8",
        "_0GaYL3knqQR",
        "mpNP0oM2pBM8",
        "tsGYDCRRQnWq",
        "IwOC0fQuGxwC",
        "-Z-2mtyqSDqK",
        "oIXtugu6UwEU",
        "eAbs0cuscLU4",
        "Uq8Y5cg5ZgX9"
      ],
      "toc_visible": true,
      "mount_file_id": "1wrCISO8Qsicdj178Z5RTAweX82M1H_zi",
      "authorship_tag": "ABX9TyP8JrF7xrc2weax3481Q3mM",
      "include_colab_link": true
    },
    "kernelspec": {
      "name": "python3",
      "display_name": "Python 3"
    }
  },
  "cells": [
    {
      "cell_type": "markdown",
      "metadata": {
        "id": "view-in-github",
        "colab_type": "text"
      },
      "source": [
        "<a href=\"https://colab.research.google.com/github/sho12333/deeplearning/blob/master/%E8%A8%80%E8%AA%9E%E3%83%8E%E3%83%83%E3%82%AF/%E3%83%8E%E3%83%83%E3%82%AF1%E7%AB%A0.ipynb\" target=\"_parent\"><img src=\"https://colab.research.google.com/assets/colab-badge.svg\" alt=\"Open In Colab\"/></a>"
      ]
    },
    {
      "cell_type": "markdown",
      "metadata": {
        "id": "pWpcR_1mBFU6",
        "colab_type": "text"
      },
      "source": [
        "# **00. 文字列の逆順**"
      ]
    },
    {
      "cell_type": "markdown",
      "metadata": {
        "id": "5rDDUh7HBNxD",
        "colab_type": "text"
      },
      "source": [
        "文字列”stressed”の文字を逆に（末尾から先頭に向かって）並べた文字列を得よ"
      ]
    },
    {
      "cell_type": "code",
      "metadata": {
        "id": "aMtXKAlFBPrg",
        "colab_type": "code",
        "colab": {
          "base_uri": "https://localhost:8080/",
          "height": 35
        },
        "outputId": "531fcfcc-7414-4079-c141-d2f8ec4a3782"
      },
      "source": [
        "data='stressed'\n",
        "\n",
        "tmp=[]\n",
        "\n",
        "for i in data:\n",
        "    tmp.append(i)\n",
        "\n",
        "print(''.join(tmp[::-1]))\n",
        "\n"
      ],
      "execution_count": null,
      "outputs": [
        {
          "output_type": "stream",
          "text": [
            "desserts\n"
          ],
          "name": "stdout"
        }
      ]
    },
    {
      "cell_type": "markdown",
      "metadata": {
        "id": "4htxFBcUDLco",
        "colab_type": "text"
      },
      "source": [
        "# **01. 「パタトクカシーー」**"
      ]
    },
    {
      "cell_type": "markdown",
      "metadata": {
        "id": "gFTt7MUzDQfm",
        "colab_type": "text"
      },
      "source": [
        "「パタトクカシーー」という文字列の1,3,5,7文字目を取り出して連結した文字列を得よ"
      ]
    },
    {
      "cell_type": "code",
      "metadata": {
        "id": "wShokO9yDTRz",
        "colab_type": "code",
        "colab": {
          "base_uri": "https://localhost:8080/",
          "height": 35
        },
        "outputId": "93ea2ec5-9f9c-472c-9354-40ecca41ddca"
      },
      "source": [
        "data='パタトクカシーー'\n",
        "\n",
        "tmp=[]\n",
        "ans=[]\n",
        "\n",
        "for i in data:\n",
        "    tmp.append(i)\n",
        "\n",
        "for i in range(len(data)):\n",
        "    if i % 2 != 0:\n",
        "        ans.append(tmp[i])\n",
        "\n",
        "print(''.join(ans))"
      ],
      "execution_count": null,
      "outputs": [
        {
          "output_type": "stream",
          "text": [
            "タクシー\n"
          ],
          "name": "stdout"
        }
      ]
    },
    {
      "cell_type": "markdown",
      "metadata": {
        "id": "O-Oogb79Ha1q",
        "colab_type": "text"
      },
      "source": [
        "# **02. 「パトカー」＋「タクシー」＝「パタトクカシーー」**"
      ]
    },
    {
      "cell_type": "markdown",
      "metadata": {
        "id": "_i8RZ4ktHhFT",
        "colab_type": "text"
      },
      "source": [
        "「パトカー」＋「タクシー」の文字を先頭から交互に連結して文字列「パタトクカシーー」を得よ"
      ]
    },
    {
      "cell_type": "code",
      "metadata": {
        "id": "R9zVe9VOHi64",
        "colab_type": "code",
        "colab": {
          "base_uri": "https://localhost:8080/",
          "height": 35
        },
        "outputId": "254c8a44-211b-4caf-efb6-2698aabca326"
      },
      "source": [
        "data1='パトカー'\n",
        "data2='タクシー'\n",
        "\n",
        "ans=[]\n",
        "\n",
        "odd=data1[1::2] #トー\n",
        "even=data1[::2] #パカー\n",
        "\n",
        "odd2=data2[1::2] #クー\n",
        "even2=data2[::2] #タシ―\n",
        "\n",
        "for i in range(len(odd)):\n",
        "   ans.append(even[i])\n",
        "   ans.append(even2[i])\n",
        "   ans.append(odd[i])\n",
        "   ans.append(odd2[i])\n",
        "\n",
        "print(''.join(ans))\n"
      ],
      "execution_count": null,
      "outputs": [
        {
          "output_type": "stream",
          "text": [
            "パタトクカシーー\n"
          ],
          "name": "stdout"
        }
      ]
    },
    {
      "cell_type": "markdown",
      "metadata": {
        "id": "xErtT-15O41o",
        "colab_type": "text"
      },
      "source": [
        "# **03. 円周率**"
      ]
    },
    {
      "cell_type": "markdown",
      "metadata": {
        "id": "HxAR5FjTO5VG",
        "colab_type": "text"
      },
      "source": [
        "“Now I need a drink, alcoholic of course, after the heavy lectures involving quantum mechanics.”という文を単語に分解し，各単語の（アルファベットの）文字数を先頭から出現順に並べたリストを作成せよ"
      ]
    },
    {
      "cell_type": "code",
      "metadata": {
        "id": "oq4sLU2iPA2E",
        "colab_type": "code",
        "colab": {
          "base_uri": "https://localhost:8080/",
          "height": 35
        },
        "outputId": "381187fd-5a35-4e79-a699-8efaf6f882ac"
      },
      "source": [
        "data='Now I need a drink, alcoholic of course, after the heavy lectures involving quantum mechanics'\n",
        "\n",
        "data = data.replace('.', '') #ピリオドを削除\n",
        "data = data.replace(',', '')\n",
        "a=data.split(' ')\n",
        "\n",
        "ans=[]\n",
        "for i in a:\n",
        "    ans.append(len(i))\n",
        "print(ans)"
      ],
      "execution_count": null,
      "outputs": [
        {
          "output_type": "stream",
          "text": [
            "[3, 1, 4, 1, 5, 9, 2, 6, 5, 3, 5, 8, 9, 7, 9]\n"
          ],
          "name": "stdout"
        }
      ]
    },
    {
      "cell_type": "markdown",
      "metadata": {
        "id": "EFKB27YnUHBk",
        "colab_type": "text"
      },
      "source": [
        "# **04. 元素記号**"
      ]
    },
    {
      "cell_type": "markdown",
      "metadata": {
        "id": "QZ_OVniaUOPB",
        "colab_type": "text"
      },
      "source": [
        "“Hi He Lied Because Boron Could Not Oxidize Fluorine. New Nations Might Also Sign Peace Security Clause. Arthur King Can.”という文を単語に分解し，1, 5, 6, 7, 8, 9, 15, 16, 19番目の単語は先頭の1文字，それ以外の単語は先頭の2文字を取り出し，取り出した文字列から単語の位置（先頭から何番目の単語か）への連想配列（辞書型もしくはマップ型）を作成せよ"
      ]
    },
    {
      "cell_type": "code",
      "metadata": {
        "id": "HkdmQL9xUQuK",
        "colab_type": "code",
        "colab": {
          "base_uri": "https://localhost:8080/",
          "height": 55
        },
        "outputId": "f132b0b5-311a-44e3-cc73-71e3fffa06ee"
      },
      "source": [
        "text = \"Hi He Lied Because Boron Could Not Oxidize Fluorine. New Nations Might Also Sign Peace Security Clause. Arthur King Can.\"\n",
        "words = text.split(\" \") #空白で単語を分割\n",
        "\n",
        "first_only = [1, 5, 6, 7, 6, 9, 15, 16, 19] #1文字目のみを取り出す単語の番号\n",
        "number = 1 #番号をメモ\n",
        "element = {}  #番号に対応した元素を格納する辞書\n",
        "\n",
        "for word in words:\n",
        "    if number in first_only:\n",
        "        element[word[0]] = number\n",
        "\n",
        "    else:\n",
        "        element[word[0] + word[1]] = number\n",
        "    \n",
        "    number += 1\n",
        "    \n",
        "print(element)"
      ],
      "execution_count": null,
      "outputs": [
        {
          "output_type": "stream",
          "text": [
            "{'H': 1, 'He': 2, 'Li': 3, 'Be': 4, 'B': 5, 'C': 6, 'N': 7, 'Ox': 8, 'F': 9, 'Ne': 10, 'Na': 11, 'Mi': 12, 'Al': 13, 'Si': 14, 'P': 15, 'S': 16, 'Cl': 17, 'Ar': 18, 'K': 19, 'Ca': 20}\n"
          ],
          "name": "stdout"
        }
      ]
    },
    {
      "cell_type": "markdown",
      "metadata": {
        "id": "bK0twWB1x2Nx",
        "colab_type": "text"
      },
      "source": [
        "# **05. n-gram**"
      ]
    },
    {
      "cell_type": "markdown",
      "metadata": {
        "id": "yVOI_wxGx2rq",
        "colab_type": "text"
      },
      "source": [
        "与えられたシーケンス（文字列やリストなど）からn-gramを作る関数を作成せよ．この関数を用い，”I am an NLPer”という文から単語bi-gram，文字bi-gramを得よ\n",
        "\n",
        "bigramは2文字単位で取り出す"
      ]
    },
    {
      "cell_type": "code",
      "metadata": {
        "id": "1_jGmIVhx-V9",
        "colab_type": "code",
        "colab": {
          "base_uri": "https://localhost:8080/",
          "height": 89
        },
        "outputId": "ab650ee7-450f-4ef5-fee8-8156f5d0cf94"
      },
      "source": [
        "\n",
        "\n",
        "#文字単位のbi-gram\n",
        "def text_ngram(text,n):\n",
        "    word=text.replace(' ','')\n",
        "\n",
        "    ans=[]\n",
        "\n",
        "    for i in range(len(word)-n+1):\n",
        "        ans.append(word[i:i+n])\n",
        "\n",
        "    return ans\n",
        "\n",
        "\n",
        "#単語単位のbi-gram\n",
        "def word_ngram(word,n):\n",
        "    word=data.split(' ')\n",
        "\n",
        "    ans=[]\n",
        "    for i in range(len(word)-n+1):\n",
        "        #ans.append(''.join(word[i:i+n]))    単語結合ver\n",
        "        ans.append(word[i:i+n])              #単語別ver \n",
        "\n",
        "    return ans\n",
        "\n",
        "\n",
        "\n",
        "a=text_ngram('I am an NLPer',2)\n",
        "b=word_ngram('I am an NLPer',2)\n",
        "print('---text---\\n {}\\n---word---\\n{}'.format(a,b))     \n"
      ],
      "execution_count": null,
      "outputs": [
        {
          "output_type": "stream",
          "text": [
            "---text---\n",
            " ['Ia', 'am', 'ma', 'an', 'nN', 'NL', 'LP', 'Pe', 'er']\n",
            "---word---\n",
            "[['I', 'am'], ['am', 'an'], ['an', 'NLPer']]\n"
          ],
          "name": "stdout"
        }
      ]
    },
    {
      "cell_type": "markdown",
      "metadata": {
        "id": "X2VazEcybAJc",
        "colab_type": "text"
      },
      "source": [
        "# **06. 集合**"
      ]
    },
    {
      "cell_type": "markdown",
      "metadata": {
        "id": "qyoeCw2ebAOA",
        "colab_type": "text"
      },
      "source": [
        "“paraparaparadise”と”paragraph”に含まれる文字bi-gramの集合を，それぞれ, XとYとして求め，XとYの和集合，積集合，差集合を求めよ．さらに，’se’というbi-gramがXおよびYに含まれるかどうかを調べよ"
      ]
    },
    {
      "cell_type": "code",
      "metadata": {
        "id": "2F1bjzSPbAeT",
        "colab_type": "code",
        "colab": {
          "base_uri": "https://localhost:8080/"
        },
        "outputId": "be6b2c82-f3bc-43e4-de2e-b525c8754339"
      },
      "source": [
        "\n",
        "\n",
        "data_x='paraparaparadise'\n",
        "data_y='paragraph'\n",
        "\n",
        "\n",
        "\n",
        "X=set(data_x)\n",
        "Y=set(data_y)\n",
        "print('--X--\\n{}'.format(X))\n",
        "print('\\n')\n",
        "print('--Y--\\n{}'.format(Y))\n",
        "\n",
        "def set_union(X,Y):#和集合関数\n",
        "\n",
        "    ans=[]\n",
        "    for i in X:\n",
        "        for j in Y:\n",
        "            if not i in ans:\n",
        "                ans.append(i)\n",
        "            \n",
        "            if not j in ans_U:\n",
        "                ans.append(j)\n",
        "\n",
        "    return ans \n",
        "\n",
        "def set_inter(X,Y):#積集合関数\n",
        "\n",
        "    ans=[]\n",
        "    for i in X:\n",
        "        for j in Y:\n",
        "            if i == j :\n",
        "                ans.append(i)\n",
        "        \n",
        "        \n",
        "    return ans\n",
        "\n",
        "#print('\\n---X∨Y---\\n{}'.format(set_union(X,Y)))\n",
        "\n",
        "#print('\\n---X∧Y---\\n{}'.format(set_inter(X,Y)))\n",
        "\n",
        "print('\\n---X∨Y---\\n{}'.format(X|Y))\n",
        "\n",
        "print('\\n---X∧Y---\\n{}'.format(X&Y))\n",
        "\n",
        "print('\\n---X-Y---\\n{}'.format(X-Y))"
      ],
      "execution_count": null,
      "outputs": [
        {
          "output_type": "stream",
          "text": [
            "--X--\n",
            "{'p', 'e', 'i', 'd', 's', 'r', 'a'}\n",
            "\n",
            "\n",
            "--Y--\n",
            "{'p', 'g', 'r', 'a', 'h'}\n",
            "\n",
            "---X∨Y---\n",
            "{'p', 'e', 'i', 'd', 'g', 's', 'r', 'a', 'h'}\n",
            "\n",
            "---X∧Y---\n",
            "{'p', 'a', 'r'}\n",
            "\n",
            "---X-Y---\n",
            "{'d', 's', 'e', 'i'}\n"
          ],
          "name": "stdout"
        }
      ]
    },
    {
      "cell_type": "markdown",
      "metadata": {
        "id": "TSy6PWT4nMf8",
        "colab_type": "text"
      },
      "source": [
        "# **07. テンプレートによる文生成**"
      ]
    },
    {
      "cell_type": "markdown",
      "metadata": {
        "id": "fynYYtgXnMsK",
        "colab_type": "text"
      },
      "source": [
        "引数x, y, zを受け取り「x時のyはz」という文字列を返す関数を実装せよ．さらに，x=12, y=”気温”, z=22.4として，実行結果を確認せよ"
      ]
    },
    {
      "cell_type": "code",
      "metadata": {
        "id": "BpTWMH1knMzc",
        "colab_type": "code",
        "colab": {
          "base_uri": "https://localhost:8080/"
        },
        "outputId": "533de380-e1e6-480d-edd5-f56cd537ba8c"
      },
      "source": [
        "def template(x,y,z):\n",
        "    return '{}時の{}は{}'.format(x,y,z)\n",
        "\n",
        "\n",
        "template(12,'気温',22.4)\n"
      ],
      "execution_count": null,
      "outputs": [
        {
          "output_type": "execute_result",
          "data": {
            "application/vnd.google.colaboratory.intrinsic": {
              "type": "string"
            },
            "text/plain": [
              "'12時の気温は22.4'"
            ]
          },
          "metadata": {
            "tags": []
          },
          "execution_count": 130
        }
      ]
    },
    {
      "cell_type": "markdown",
      "metadata": {
        "id": "_0GaYL3knqQR",
        "colab_type": "text"
      },
      "source": [
        "# **08. 暗号文**"
      ]
    },
    {
      "cell_type": "markdown",
      "metadata": {
        "id": "pFmo8bqynqUT",
        "colab_type": "text"
      },
      "source": [
        "与えられた文字列の各文字を，以下の仕様で変換する関数cipherを実装せよ．\n",
        "\n",
        "英小文字ならば(219 - 文字コード)の文字に置換\n",
        "その他の文字はそのまま出力\n",
        "この関数を用い，英語のメッセージを暗号化・復号化せよ"
      ]
    },
    {
      "cell_type": "code",
      "metadata": {
        "id": "3RGfCeNOnqh6",
        "colab_type": "code",
        "colab": {
          "base_uri": "https://localhost:8080/"
        },
        "outputId": "3d618556-029a-4d44-88e7-c2c89060faac"
      },
      "source": [
        "def cipher(text):\n",
        "\n",
        "    ans=''\n",
        "    for i in range(len(text)):\n",
        "        if text[i].islower():\n",
        "            ans+=chr(219 - ord(text[i]))\n",
        "        else:\n",
        "            ans+=text[i]\n",
        "\n",
        "    return ans\n",
        "\n",
        "\n",
        "a=cipher('I can speak English')\n",
        "a"
      ],
      "execution_count": null,
      "outputs": [
        {
          "output_type": "execute_result",
          "data": {
            "application/vnd.google.colaboratory.intrinsic": {
              "type": "string"
            },
            "text/plain": [
              "'I xzm hkvzp Emtorhs'"
            ]
          },
          "metadata": {
            "tags": []
          },
          "execution_count": 134
        }
      ]
    },
    {
      "cell_type": "markdown",
      "metadata": {
        "id": "mpNP0oM2pBM8",
        "colab_type": "text"
      },
      "source": [
        "# **09. Typoglycemia**"
      ]
    },
    {
      "cell_type": "markdown",
      "metadata": {
        "id": "ubPQ5OrlpBTQ",
        "colab_type": "text"
      },
      "source": [
        "スペースで区切られた単語列に対して，各単語の先頭と末尾の文字は残し，それ以外の文字の順序をランダムに並び替えるプログラムを作成せよ．ただし，長さが４以下の単語は並び替えないこととする．適当な英語の文（例えば”I couldn’t believe that I could actually understand what I was reading : the phenomenal power of the human mind .”）を与え，その実行結果を確認せよ"
      ]
    },
    {
      "cell_type": "code",
      "metadata": {
        "id": "IcDpMXjSpBbO",
        "colab_type": "code",
        "colab": {
          "base_uri": "https://localhost:8080/"
        },
        "outputId": "a845c03e-65c4-4810-b254-b0fef60ec0f4"
      },
      "source": [
        "import random\n",
        "\n",
        "data='I couldn’t believe that I could actually understand what I was reading :\\\n",
        " the phenomenal power of the human mind .'\n",
        "\n",
        "#data=data.replace(': ','')\n",
        "#data=data.replace(' .','')\n",
        "\n",
        "word=data.split(' ')\n",
        "\n",
        "ans=''\n",
        "\n",
        "for i in range(len(word)):\n",
        "    if len(word[i])>= 4:\n",
        "        ans+=word[i][0]\n",
        "        ans+=''.join(random.sample(str(word[i]),len(word[i][1:-1])))\n",
        "        ans+=word[i][-1]+' '\n",
        "    else:\n",
        "        ans+=word[i]+' '\n",
        "\n",
        "print(data,'\\n')\n",
        "print(ans)\n"
      ],
      "execution_count": null,
      "outputs": [
        {
          "output_type": "stream",
          "text": [
            "I couldn’t believe that I could actually understand what I was reading : the phenomenal power of the human mind . \n",
            "\n",
            "I cndoulct bvileee ttht I cdold aautclly ueutdsrdad what I was raigdeg : the pemneaopnl prwer of the hnhmn mndd . \n"
          ],
          "name": "stdout"
        }
      ]
    }
  ]
}
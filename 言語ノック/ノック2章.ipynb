{
  "nbformat": 4,
  "nbformat_minor": 0,
  "metadata": {
    "colab": {
      "name": "ノック2章.ipynb",
      "provenance": [],
      "collapsed_sections": [
        "pWpcR_1mBFU6",
        "4htxFBcUDLco",
        "O-Oogb79Ha1q",
        "xErtT-15O41o",
        "X2VazEcybAJc",
        "TSy6PWT4nMf8",
        "_0GaYL3knqQR",
        "mpNP0oM2pBM8",
        "tsGYDCRRQnWq",
        "IwOC0fQuGxwC",
        "-Z-2mtyqSDqK",
        "oIXtugu6UwEU",
        "eAbs0cuscLU4",
        "Uq8Y5cg5ZgX9"
      ],
      "toc_visible": true,
      "mount_file_id": "1wrCISO8Qsicdj178Z5RTAweX82M1H_zi",
      "authorship_tag": "ABX9TyNKJ+y/BWN3QVk2bhpuINLh",
      "include_colab_link": true
    },
    "kernelspec": {
      "name": "python3",
      "display_name": "Python 3"
    }
  },
  "cells": [
    {
      "cell_type": "markdown",
      "metadata": {
        "id": "view-in-github",
        "colab_type": "text"
      },
      "source": [
        "<a href=\"https://colab.research.google.com/github/sho12333/deeplearning/blob/master/%E8%A8%80%E8%AA%9E%E3%83%8E%E3%83%83%E3%82%AF/%E3%83%8E%E3%83%83%E3%82%AF2%E7%AB%A0.ipynb\" target=\"_parent\"><img src=\"https://colab.research.google.com/assets/colab-badge.svg\" alt=\"Open In Colab\"/></a>"
      ]
    },
    {
      "cell_type": "markdown",
      "metadata": {
        "id": "tsGYDCRRQnWq",
        "colab_type": "text"
      },
      "source": [
        "# **10. 行数のカウント**"
      ]
    },
    {
      "cell_type": "markdown",
      "metadata": {
        "id": "02qEc4tpQndm",
        "colab_type": "text"
      },
      "source": [
        "行数をカウントせよ．確認にはwcコマンドを用いよ"
      ]
    },
    {
      "cell_type": "code",
      "metadata": {
        "id": "Zni39Z9XXeeU",
        "colab_type": "code",
        "colab": {
          "resources": {
            "http://localhost:8080/nbextensions/google.colab/files.js": {
              "data": "Ly8gQ29weXJpZ2h0IDIwMTcgR29vZ2xlIExMQwovLwovLyBMaWNlbnNlZCB1bmRlciB0aGUgQXBhY2hlIExpY2Vuc2UsIFZlcnNpb24gMi4wICh0aGUgIkxpY2Vuc2UiKTsKLy8geW91IG1heSBub3QgdXNlIHRoaXMgZmlsZSBleGNlcHQgaW4gY29tcGxpYW5jZSB3aXRoIHRoZSBMaWNlbnNlLgovLyBZb3UgbWF5IG9idGFpbiBhIGNvcHkgb2YgdGhlIExpY2Vuc2UgYXQKLy8KLy8gICAgICBodHRwOi8vd3d3LmFwYWNoZS5vcmcvbGljZW5zZXMvTElDRU5TRS0yLjAKLy8KLy8gVW5sZXNzIHJlcXVpcmVkIGJ5IGFwcGxpY2FibGUgbGF3IG9yIGFncmVlZCB0byBpbiB3cml0aW5nLCBzb2Z0d2FyZQovLyBkaXN0cmlidXRlZCB1bmRlciB0aGUgTGljZW5zZSBpcyBkaXN0cmlidXRlZCBvbiBhbiAiQVMgSVMiIEJBU0lTLAovLyBXSVRIT1VUIFdBUlJBTlRJRVMgT1IgQ09ORElUSU9OUyBPRiBBTlkgS0lORCwgZWl0aGVyIGV4cHJlc3Mgb3IgaW1wbGllZC4KLy8gU2VlIHRoZSBMaWNlbnNlIGZvciB0aGUgc3BlY2lmaWMgbGFuZ3VhZ2UgZ292ZXJuaW5nIHBlcm1pc3Npb25zIGFuZAovLyBsaW1pdGF0aW9ucyB1bmRlciB0aGUgTGljZW5zZS4KCi8qKgogKiBAZmlsZW92ZXJ2aWV3IEhlbHBlcnMgZm9yIGdvb2dsZS5jb2xhYiBQeXRob24gbW9kdWxlLgogKi8KKGZ1bmN0aW9uKHNjb3BlKSB7CmZ1bmN0aW9uIHNwYW4odGV4dCwgc3R5bGVBdHRyaWJ1dGVzID0ge30pIHsKICBjb25zdCBlbGVtZW50ID0gZG9jdW1lbnQuY3JlYXRlRWxlbWVudCgnc3BhbicpOwogIGVsZW1lbnQudGV4dENvbnRlbnQgPSB0ZXh0OwogIGZvciAoY29uc3Qga2V5IG9mIE9iamVjdC5rZXlzKHN0eWxlQXR0cmlidXRlcykpIHsKICAgIGVsZW1lbnQuc3R5bGVba2V5XSA9IHN0eWxlQXR0cmlidXRlc1trZXldOwogIH0KICByZXR1cm4gZWxlbWVudDsKfQoKLy8gTWF4IG51bWJlciBvZiBieXRlcyB3aGljaCB3aWxsIGJlIHVwbG9hZGVkIGF0IGEgdGltZS4KY29uc3QgTUFYX1BBWUxPQURfU0laRSA9IDEwMCAqIDEwMjQ7CgpmdW5jdGlvbiBfdXBsb2FkRmlsZXMoaW5wdXRJZCwgb3V0cHV0SWQpIHsKICBjb25zdCBzdGVwcyA9IHVwbG9hZEZpbGVzU3RlcChpbnB1dElkLCBvdXRwdXRJZCk7CiAgY29uc3Qgb3V0cHV0RWxlbWVudCA9IGRvY3VtZW50LmdldEVsZW1lbnRCeUlkKG91dHB1dElkKTsKICAvLyBDYWNoZSBzdGVwcyBvbiB0aGUgb3V0cHV0RWxlbWVudCB0byBtYWtlIGl0IGF2YWlsYWJsZSBmb3IgdGhlIG5leHQgY2FsbAogIC8vIHRvIHVwbG9hZEZpbGVzQ29udGludWUgZnJvbSBQeXRob24uCiAgb3V0cHV0RWxlbWVudC5zdGVwcyA9IHN0ZXBzOwoKICByZXR1cm4gX3VwbG9hZEZpbGVzQ29udGludWUob3V0cHV0SWQpOwp9CgovLyBUaGlzIGlzIHJvdWdobHkgYW4gYXN5bmMgZ2VuZXJhdG9yIChub3Qgc3VwcG9ydGVkIGluIHRoZSBicm93c2VyIHlldCksCi8vIHdoZXJlIHRoZXJlIGFyZSBtdWx0aXBsZSBhc3luY2hyb25vdXMgc3RlcHMgYW5kIHRoZSBQeXRob24gc2lkZSBpcyBnb2luZwovLyB0byBwb2xsIGZvciBjb21wbGV0aW9uIG9mIGVhY2ggc3RlcC4KLy8gVGhpcyB1c2VzIGEgUHJvbWlzZSB0byBibG9jayB0aGUgcHl0aG9uIHNpZGUgb24gY29tcGxldGlvbiBvZiBlYWNoIHN0ZXAsCi8vIHRoZW4gcGFzc2VzIHRoZSByZXN1bHQgb2YgdGhlIHByZXZpb3VzIHN0ZXAgYXMgdGhlIGlucHV0IHRvIHRoZSBuZXh0IHN0ZXAuCmZ1bmN0aW9uIF91cGxvYWRGaWxlc0NvbnRpbnVlKG91dHB1dElkKSB7CiAgY29uc3Qgb3V0cHV0RWxlbWVudCA9IGRvY3VtZW50LmdldEVsZW1lbnRCeUlkKG91dHB1dElkKTsKICBjb25zdCBzdGVwcyA9IG91dHB1dEVsZW1lbnQuc3RlcHM7CgogIGNvbnN0IG5leHQgPSBzdGVwcy5uZXh0KG91dHB1dEVsZW1lbnQubGFzdFByb21pc2VWYWx1ZSk7CiAgcmV0dXJuIFByb21pc2UucmVzb2x2ZShuZXh0LnZhbHVlLnByb21pc2UpLnRoZW4oKHZhbHVlKSA9PiB7CiAgICAvLyBDYWNoZSB0aGUgbGFzdCBwcm9taXNlIHZhbHVlIHRvIG1ha2UgaXQgYXZhaWxhYmxlIHRvIHRoZSBuZXh0CiAgICAvLyBzdGVwIG9mIHRoZSBnZW5lcmF0b3IuCiAgICBvdXRwdXRFbGVtZW50Lmxhc3RQcm9taXNlVmFsdWUgPSB2YWx1ZTsKICAgIHJldHVybiBuZXh0LnZhbHVlLnJlc3BvbnNlOwogIH0pOwp9CgovKioKICogR2VuZXJhdG9yIGZ1bmN0aW9uIHdoaWNoIGlzIGNhbGxlZCBiZXR3ZWVuIGVhY2ggYXN5bmMgc3RlcCBvZiB0aGUgdXBsb2FkCiAqIHByb2Nlc3MuCiAqIEBwYXJhbSB7c3RyaW5nfSBpbnB1dElkIEVsZW1lbnQgSUQgb2YgdGhlIGlucHV0IGZpbGUgcGlja2VyIGVsZW1lbnQuCiAqIEBwYXJhbSB7c3RyaW5nfSBvdXRwdXRJZCBFbGVtZW50IElEIG9mIHRoZSBvdXRwdXQgZGlzcGxheS4KICogQHJldHVybiB7IUl0ZXJhYmxlPCFPYmplY3Q+fSBJdGVyYWJsZSBvZiBuZXh0IHN0ZXBzLgogKi8KZnVuY3Rpb24qIHVwbG9hZEZpbGVzU3RlcChpbnB1dElkLCBvdXRwdXRJZCkgewogIGNvbnN0IGlucHV0RWxlbWVudCA9IGRvY3VtZW50LmdldEVsZW1lbnRCeUlkKGlucHV0SWQpOwogIGlucHV0RWxlbWVudC5kaXNhYmxlZCA9IGZhbHNlOwoKICBjb25zdCBvdXRwdXRFbGVtZW50ID0gZG9jdW1lbnQuZ2V0RWxlbWVudEJ5SWQob3V0cHV0SWQpOwogIG91dHB1dEVsZW1lbnQuaW5uZXJIVE1MID0gJyc7CgogIGNvbnN0IHBpY2tlZFByb21pc2UgPSBuZXcgUHJvbWlzZSgocmVzb2x2ZSkgPT4gewogICAgaW5wdXRFbGVtZW50LmFkZEV2ZW50TGlzdGVuZXIoJ2NoYW5nZScsIChlKSA9PiB7CiAgICAgIHJlc29sdmUoZS50YXJnZXQuZmlsZXMpOwogICAgfSk7CiAgfSk7CgogIGNvbnN0IGNhbmNlbCA9IGRvY3VtZW50LmNyZWF0ZUVsZW1lbnQoJ2J1dHRvbicpOwogIGlucHV0RWxlbWVudC5wYXJlbnRFbGVtZW50LmFwcGVuZENoaWxkKGNhbmNlbCk7CiAgY2FuY2VsLnRleHRDb250ZW50ID0gJ0NhbmNlbCB1cGxvYWQnOwogIGNvbnN0IGNhbmNlbFByb21pc2UgPSBuZXcgUHJvbWlzZSgocmVzb2x2ZSkgPT4gewogICAgY2FuY2VsLm9uY2xpY2sgPSAoKSA9PiB7CiAgICAgIHJlc29sdmUobnVsbCk7CiAgICB9OwogIH0pOwoKICAvLyBXYWl0IGZvciB0aGUgdXNlciB0byBwaWNrIHRoZSBmaWxlcy4KICBjb25zdCBmaWxlcyA9IHlpZWxkIHsKICAgIHByb21pc2U6IFByb21pc2UucmFjZShbcGlja2VkUHJvbWlzZSwgY2FuY2VsUHJvbWlzZV0pLAogICAgcmVzcG9uc2U6IHsKICAgICAgYWN0aW9uOiAnc3RhcnRpbmcnLAogICAgfQogIH07CgogIGNhbmNlbC5yZW1vdmUoKTsKCiAgLy8gRGlzYWJsZSB0aGUgaW5wdXQgZWxlbWVudCBzaW5jZSBmdXJ0aGVyIHBpY2tzIGFyZSBub3QgYWxsb3dlZC4KICBpbnB1dEVsZW1lbnQuZGlzYWJsZWQgPSB0cnVlOwoKICBpZiAoIWZpbGVzKSB7CiAgICByZXR1cm4gewogICAgICByZXNwb25zZTogewogICAgICAgIGFjdGlvbjogJ2NvbXBsZXRlJywKICAgICAgfQogICAgfTsKICB9CgogIGZvciAoY29uc3QgZmlsZSBvZiBmaWxlcykgewogICAgY29uc3QgbGkgPSBkb2N1bWVudC5jcmVhdGVFbGVtZW50KCdsaScpOwogICAgbGkuYXBwZW5kKHNwYW4oZmlsZS5uYW1lLCB7Zm9udFdlaWdodDogJ2JvbGQnfSkpOwogICAgbGkuYXBwZW5kKHNwYW4oCiAgICAgICAgYCgke2ZpbGUudHlwZSB8fCAnbi9hJ30pIC0gJHtmaWxlLnNpemV9IGJ5dGVzLCBgICsKICAgICAgICBgbGFzdCBtb2RpZmllZDogJHsKICAgICAgICAgICAgZmlsZS5sYXN0TW9kaWZpZWREYXRlID8gZmlsZS5sYXN0TW9kaWZpZWREYXRlLnRvTG9jYWxlRGF0ZVN0cmluZygpIDoKICAgICAgICAgICAgICAgICAgICAgICAgICAgICAgICAgICAgJ24vYSd9IC0gYCkpOwogICAgY29uc3QgcGVyY2VudCA9IHNwYW4oJzAlIGRvbmUnKTsKICAgIGxpLmFwcGVuZENoaWxkKHBlcmNlbnQpOwoKICAgIG91dHB1dEVsZW1lbnQuYXBwZW5kQ2hpbGQobGkpOwoKICAgIGNvbnN0IGZpbGVEYXRhUHJvbWlzZSA9IG5ldyBQcm9taXNlKChyZXNvbHZlKSA9PiB7CiAgICAgIGNvbnN0IHJlYWRlciA9IG5ldyBGaWxlUmVhZGVyKCk7CiAgICAgIHJlYWRlci5vbmxvYWQgPSAoZSkgPT4gewogICAgICAgIHJlc29sdmUoZS50YXJnZXQucmVzdWx0KTsKICAgICAgfTsKICAgICAgcmVhZGVyLnJlYWRBc0FycmF5QnVmZmVyKGZpbGUpOwogICAgfSk7CiAgICAvLyBXYWl0IGZvciB0aGUgZGF0YSB0byBiZSByZWFkeS4KICAgIGxldCBmaWxlRGF0YSA9IHlpZWxkIHsKICAgICAgcHJvbWlzZTogZmlsZURhdGFQcm9taXNlLAogICAgICByZXNwb25zZTogewogICAgICAgIGFjdGlvbjogJ2NvbnRpbnVlJywKICAgICAgfQogICAgfTsKCiAgICAvLyBVc2UgYSBjaHVua2VkIHNlbmRpbmcgdG8gYXZvaWQgbWVzc2FnZSBzaXplIGxpbWl0cy4gU2VlIGIvNjIxMTU2NjAuCiAgICBsZXQgcG9zaXRpb24gPSAwOwogICAgd2hpbGUgKHBvc2l0aW9uIDwgZmlsZURhdGEuYnl0ZUxlbmd0aCkgewogICAgICBjb25zdCBsZW5ndGggPSBNYXRoLm1pbihmaWxlRGF0YS5ieXRlTGVuZ3RoIC0gcG9zaXRpb24sIE1BWF9QQVlMT0FEX1NJWkUpOwogICAgICBjb25zdCBjaHVuayA9IG5ldyBVaW50OEFycmF5KGZpbGVEYXRhLCBwb3NpdGlvbiwgbGVuZ3RoKTsKICAgICAgcG9zaXRpb24gKz0gbGVuZ3RoOwoKICAgICAgY29uc3QgYmFzZTY0ID0gYnRvYShTdHJpbmcuZnJvbUNoYXJDb2RlLmFwcGx5KG51bGwsIGNodW5rKSk7CiAgICAgIHlpZWxkIHsKICAgICAgICByZXNwb25zZTogewogICAgICAgICAgYWN0aW9uOiAnYXBwZW5kJywKICAgICAgICAgIGZpbGU6IGZpbGUubmFtZSwKICAgICAgICAgIGRhdGE6IGJhc2U2NCwKICAgICAgICB9LAogICAgICB9OwogICAgICBwZXJjZW50LnRleHRDb250ZW50ID0KICAgICAgICAgIGAke01hdGgucm91bmQoKHBvc2l0aW9uIC8gZmlsZURhdGEuYnl0ZUxlbmd0aCkgKiAxMDApfSUgZG9uZWA7CiAgICB9CiAgfQoKICAvLyBBbGwgZG9uZS4KICB5aWVsZCB7CiAgICByZXNwb25zZTogewogICAgICBhY3Rpb246ICdjb21wbGV0ZScsCiAgICB9CiAgfTsKfQoKc2NvcGUuZ29vZ2xlID0gc2NvcGUuZ29vZ2xlIHx8IHt9OwpzY29wZS5nb29nbGUuY29sYWIgPSBzY29wZS5nb29nbGUuY29sYWIgfHwge307CnNjb3BlLmdvb2dsZS5jb2xhYi5fZmlsZXMgPSB7CiAgX3VwbG9hZEZpbGVzLAogIF91cGxvYWRGaWxlc0NvbnRpbnVlLAp9Owp9KShzZWxmKTsK",
              "ok": true,
              "headers": [
                [
                  "content-type",
                  "application/javascript"
                ]
              ],
              "status": 200,
              "status_text": ""
            }
          },
          "base_uri": "https://localhost:8080/"
        },
        "outputId": "82e89a49-2d74-4fe8-da5f-493b5f1247c7"
      },
      "source": [
        "from google.colab import files\n",
        "\n",
        "uploaded = files.upload()\n",
        "\n",
        "for fn in uploaded.keys():\n",
        "  print('User uploaded file \"{name}\" with length {length} bytes'.format(\n",
        "      name=fn, length=len(uploaded[fn])))"
      ],
      "execution_count": null,
      "outputs": [
        {
          "output_type": "display_data",
          "data": {
            "text/html": [
              "\n",
              "     <input type=\"file\" id=\"files-a5d9729b-32fc-453b-aca0-575a203a22fe\" name=\"files[]\" multiple disabled\n",
              "        style=\"border:none\" />\n",
              "     <output id=\"result-a5d9729b-32fc-453b-aca0-575a203a22fe\">\n",
              "      Upload widget is only available when the cell has been executed in the\n",
              "      current browser session. Please rerun this cell to enable.\n",
              "      </output>\n",
              "      <script src=\"/nbextensions/google.colab/files.js\"></script> "
            ],
            "text/plain": [
              "<IPython.core.display.HTML object>"
            ]
          },
          "metadata": {
            "tags": []
          }
        },
        {
          "output_type": "stream",
          "text": [
            "Saving popular-names.txt to popular-names.txt\n",
            "User uploaded file \"popular-names.txt\" with length 55026 bytes\n"
          ],
          "name": "stdout"
        }
      ]
    },
    {
      "cell_type": "code",
      "metadata": {
        "id": "BidMBpLeXk9O",
        "colab_type": "code",
        "colab": {
          "base_uri": "https://localhost:8080/"
        },
        "outputId": "5535a0c8-2e55-4905-8f56-4ad6f58fe6a7"
      },
      "source": [
        "with open('/content/popular-names.txt') as file:\n",
        "    line=file.readlines()\n",
        "    print(len(line))"
      ],
      "execution_count": null,
      "outputs": [
        {
          "output_type": "stream",
          "text": [
            "2780\n"
          ],
          "name": "stdout"
        }
      ]
    },
    {
      "cell_type": "markdown",
      "metadata": {
        "id": "lOq3UpYJX6T5",
        "colab_type": "text"
      },
      "source": [
        "# **11. タブをスペースに置換**"
      ]
    },
    {
      "cell_type": "markdown",
      "metadata": {
        "id": "RoFvFyXOX6jR",
        "colab_type": "text"
      },
      "source": [
        "タブ1文字につきスペース1文字に置換せよ．確認にはsedコマンド，trコマンド，もしくはexpandコマンドを用いよ"
      ]
    },
    {
      "cell_type": "code",
      "metadata": {
        "id": "rj_cTunZX6sH",
        "colab_type": "code",
        "colab": {}
      },
      "source": [
        "with open('/content/popular-names.txt')as file:\n",
        "    file=file.read()\n",
        "    file=file.replace('\\t',' ')\n",
        "    print(file)"
      ],
      "execution_count": null,
      "outputs": []
    },
    {
      "cell_type": "markdown",
      "metadata": {
        "id": "jNyVffUfazTx",
        "colab_type": "text"
      },
      "source": [
        "# **12. 1列目をcol1.txtに，2列目をcol2.txtに保存**"
      ]
    },
    {
      "cell_type": "markdown",
      "metadata": {
        "id": "azCCw3L2azbe",
        "colab_type": "text"
      },
      "source": [
        "各行の1列目だけを抜き出したものをcol1.txtに，2列目だけを抜き出したものをcol2.txtとしてファイルに保存せよ．確認にはcutコマンドを用いよ"
      ]
    },
    {
      "cell_type": "code",
      "metadata": {
        "id": "pjkDt82La5dW",
        "colab_type": "code",
        "colab": {}
      },
      "source": [
        "with open('/content/popular-names.txt')as file:\n",
        "    file=file.readlines()\n",
        "    col1=file[0]\n",
        "    col2=file[1]\n",
        "\n",
        "with open('/content/col1.txt','w') as file1:\n",
        "    file1.write(col1)\n",
        "\n",
        "with open('/content/col2.txt','w') as file2:\n",
        "    file2.write(col2)"
      ],
      "execution_count": null,
      "outputs": []
    },
    {
      "cell_type": "markdown",
      "metadata": {
        "id": "4eqA7k4HVr_l",
        "colab_type": "text"
      },
      "source": [
        "# **13. col1.txtとcol2.txtをマージ**"
      ]
    },
    {
      "cell_type": "markdown",
      "metadata": {
        "id": "0yJLVKKMVsEu",
        "colab_type": "text"
      },
      "source": [
        "\n",
        "12で作ったcol1.txtとcol2.txtを結合し，元のファイルの1列目と2列目をタブ区切りで並べたテキストファイルを作成せよ．確認にはpasteコマンドを用いよ"
      ]
    },
    {
      "cell_type": "code",
      "metadata": {
        "id": "Mc9wZfnaVsOh",
        "colab_type": "code",
        "colab": {}
      },
      "source": [
        "with open('/content/col1.txt') as file1:\n",
        "    col1=file1.read()\n",
        "    col1=col1.replace(' ','\\t')\n",
        "\n",
        "with open('/content/col2.txt') as file2:\n",
        "    col2=file2.read()\n",
        "    col2=col2.replace(' ','\\t')\n",
        "\n",
        "with open('/content/col_merge.txt','w') as file:\n",
        "    file.write(col1)\n",
        "    file.write(col2)\n"
      ],
      "execution_count": null,
      "outputs": []
    },
    {
      "cell_type": "markdown",
      "metadata": {
        "id": "xRbCBDrPW98N",
        "colab_type": "text"
      },
      "source": [
        "# **14. 先頭からN行を出力**"
      ]
    },
    {
      "cell_type": "markdown",
      "metadata": {
        "id": "oOE0ZEhWW-AO",
        "colab_type": "text"
      },
      "source": [
        "自然数Nをコマンドライン引数などの手段で受け取り，入力のうち先頭のN行だけを表示せよ．確認にはheadコマンドを用いよ"
      ]
    },
    {
      "cell_type": "code",
      "metadata": {
        "id": "L6Nh-W3NW-LS",
        "colab_type": "code",
        "colab": {
          "base_uri": "https://localhost:8080/",
          "height": 197
        },
        "outputId": "5ae78766-74ef-4f3d-a7f6-90f71de36865"
      },
      "source": [
        "\n",
        "def n_line(N):\n",
        "    count=1\n",
        "    with open('/content/popular-names.txt')as file:\n",
        "\n",
        "        line=file.readlines()\n",
        "        for i in range(len(line)):\n",
        "\n",
        "            if i<N:\n",
        "                print(count,line[i])\n",
        "            count+=1\n",
        "\n",
        "n_line(5)"
      ],
      "execution_count": null,
      "outputs": [
        {
          "output_type": "stream",
          "text": [
            "1 Mary\tF\t7065\t1880\n",
            "\n",
            "2 Anna\tF\t2604\t1880\n",
            "\n",
            "3 Emma\tF\t2003\t1880\n",
            "\n",
            "4 Elizabeth\tF\t1939\t1880\n",
            "\n",
            "5 Minnie\tF\t1746\t1880\n",
            "\n"
          ],
          "name": "stdout"
        }
      ]
    },
    {
      "cell_type": "markdown",
      "metadata": {
        "id": "l1D6mBNgaMJK",
        "colab_type": "text"
      },
      "source": [
        "# **15. 末尾のN行を出力**"
      ]
    },
    {
      "cell_type": "markdown",
      "metadata": {
        "id": "h0oS34-AaMOa",
        "colab_type": "text"
      },
      "source": [
        "\n",
        "自然数Nをコマンドライン引数などの手段で受け取り，入力のうち末尾のN行だけを表示せよ．確認にはtailコマンドを用いよ"
      ]
    },
    {
      "cell_type": "code",
      "metadata": {
        "id": "4MqijN9aaMZz",
        "colab_type": "code",
        "colab": {
          "base_uri": "https://localhost:8080/",
          "height": 197
        },
        "outputId": "24d9e34d-bc42-4032-9091-58194442b387"
      },
      "source": [
        "def n_line_tail(N):\n",
        "    count=1\n",
        "    with open('/content/popular-names.txt')as file:\n",
        "\n",
        "        line=file.readlines()\n",
        "        for i in range(len(line)):\n",
        "\n",
        "            if i<N:\n",
        "                print(count,line[-i])\n",
        "            count+=1\n",
        "\n",
        "n_line_tail(5)\n",
        "\n"
      ],
      "execution_count": null,
      "outputs": [
        {
          "output_type": "stream",
          "text": [
            "1 Mary\tF\t7065\t1880\n",
            "\n",
            "2 Logan\tM\t12352\t2018\n",
            "\n",
            "3 Mason\tM\t12435\t2018\n",
            "\n",
            "4 Lucas\tM\t12585\t2018\n",
            "\n",
            "5 Elijah\tM\t12886\t2018\n",
            "\n"
          ],
          "name": "stdout"
        }
      ]
    },
    {
      "cell_type": "markdown",
      "metadata": {
        "id": "5OQjqGSsa69S",
        "colab_type": "text"
      },
      "source": [
        "# **16. ファイルをN分割する**"
      ]
    },
    {
      "cell_type": "markdown",
      "metadata": {
        "id": "FzIXZ4fRa7C3",
        "colab_type": "text"
      },
      "source": [
        "\n",
        "自然数Nをコマンドライン引数などの手段で受け取り，入力のファイルを行単位でN分割せよ．同様の処理をsplitコマンドで実現せよ"
      ]
    },
    {
      "cell_type": "code",
      "metadata": {
        "id": "RY9NBVxGa7RE",
        "colab_type": "code",
        "colab": {
          "base_uri": "https://localhost:8080/",
          "height": 35
        },
        "outputId": "5c9e6abe-b69d-4e9d-d811-63044dba243b"
      },
      "source": [
        "#ギブアップ　分からないので写した\n",
        "\n",
        "import math\n",
        "\n",
        "fname = '/content/popular-names.txt'\n",
        "n = int(input('N--> '))\n",
        "\n",
        "with open('/content/popular-names.txt') as file:\n",
        "    lines = file.readlines()\n",
        "\n",
        "count = len(lines)\n",
        "unit = math.ceil(count / n)  # 1ファイル当たりの行数\n",
        "\n",
        "for i, offset in enumerate(range(0, count, unit), 1):\n",
        "    with open('child_{:02d}.txt'.format(i), mode='w') as out_file:\n",
        "        for line in lines[offset:offset + unit]:\n",
        "            out_file.write(line)\n",
        "             \n",
        "            "
      ],
      "execution_count": null,
      "outputs": [
        {
          "output_type": "stream",
          "text": [
            "N--> 10\n"
          ],
          "name": "stdout"
        }
      ]
    },
    {
      "cell_type": "markdown",
      "metadata": {
        "id": "mdDApxDAyJ5L",
        "colab_type": "text"
      },
      "source": [
        "# **17. １列目の文字列の異なり**"
      ]
    },
    {
      "cell_type": "markdown",
      "metadata": {
        "id": "2s4-ysG2yJ-6",
        "colab_type": "text"
      },
      "source": [
        "\n",
        "1列目の文字列の種類（異なる文字列の集合）を求めよ．確認にはcut, sort, uniqコマンドを用いよ"
      ]
    },
    {
      "cell_type": "code",
      "metadata": {
        "id": "b9YJ5pq9yKJN",
        "colab_type": "code",
        "colab": {
          "base_uri": "https://localhost:8080/",
          "height": 35
        },
        "outputId": "d4c7374e-cf01-47d0-a80e-cc459b249700"
      },
      "source": [
        "with open('/content/popular-names.txt')as file:\n",
        "    line=file.readline()\n",
        "    line=line.replace('\\t','')\n",
        "    line=line.replace('\\n','')\n",
        "    ans=[]\n",
        "    for i in line:\n",
        "        if  not i in ans:\n",
        "            ans.append(i)\n",
        "print(ans)"
      ],
      "execution_count": null,
      "outputs": [
        {
          "output_type": "stream",
          "text": [
            "['M', 'a', 'r', 'y', 'F', '7', '0', '6', '5', '1', '8']\n"
          ],
          "name": "stdout"
        }
      ]
    },
    {
      "cell_type": "markdown",
      "metadata": {
        "id": "gx62okOUzavT",
        "colab_type": "text"
      },
      "source": [
        "# **18. 各行を3コラム目の数値の降順にソート**"
      ]
    },
    {
      "cell_type": "markdown",
      "metadata": {
        "id": "act35xEfza1S",
        "colab_type": "text"
      },
      "source": [
        "\n",
        "各行を3コラム目の数値の逆順で整列せよ（注意: 各行の内容は変更せずに並び替えよ）．確認にはsortコマンドを用いよ（この問題はコマンドで実行した時の結果と合わなくてもよい）"
      ]
    },
    {
      "cell_type": "code",
      "metadata": {
        "id": "sacrGWtoza_V",
        "colab_type": "code",
        "colab": {}
      },
      "source": [
        "with open('/content/popular-names.txt')as file:\n",
        "    line=file.readline()\n",
        "    results = []\n",
        "    for line in lines:\n",
        "        line = line.split(\"\\t\")\n",
        "        results.append(line)\n",
        "    \n",
        "        results = sorted(results, key=lambda x: x[2], reverse=True)\n",
        "\n",
        "    for result in results:\n",
        "        print(result)"
      ],
      "execution_count": null,
      "outputs": []
    },
    {
      "cell_type": "markdown",
      "metadata": {
        "id": "3GR2alrM12fE",
        "colab_type": "text"
      },
      "source": [
        "# **19. 各行の1コラム目の文字列の出現頻度を求め，出現頻度の高い順に並べる**"
      ]
    },
    {
      "cell_type": "markdown",
      "metadata": {
        "id": "gRO28KFR12lC",
        "colab_type": "text"
      },
      "source": [
        "\n",
        "各行の1列目の文字列の出現頻度を求め，その高い順に並べて表示せよ．確認にはcut, uniq, sortコマンドを用いよ"
      ]
    },
    {
      "cell_type": "code",
      "metadata": {
        "id": "yN3JSQ98127S",
        "colab_type": "code",
        "colab": {}
      },
      "source": [
        "from collections import Counter\n",
        "\n",
        "with open('/content/popular-names.txt')as file:\n",
        "    line=file.readline()\n",
        "    results = []\n",
        "    for line in lines:\n",
        "        line = line.split(\"\\t\")\n",
        "        results.append(line)\n",
        "\n",
        "        #results = sorted(results, key=lambda x: x[0])\n",
        "\n",
        "        \n",
        "        \n",
        "\n",
        "ans=[]\n",
        "for i in results:\n",
        "    ans.append(i[0])\n",
        "\n",
        "c=Counter(ans)\n",
        "for word in c.most_common():\n",
        "    print(word)\n",
        "\n"
      ],
      "execution_count": null,
      "outputs": []
    }
  ]
}